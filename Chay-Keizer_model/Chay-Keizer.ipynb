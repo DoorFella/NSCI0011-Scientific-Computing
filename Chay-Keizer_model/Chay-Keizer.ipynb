{
 "cells": [
  {
   "cell_type": "markdown",
   "metadata": {},
   "source": [
    "## The pancreatic $\\beta$-cell\n",
    "\n",
    "Pancreatic $\\beta$-cells secrete insulin, a hormone used to maintain blood plasma glocose levels. Electrical activity and $Ca^{2+}$ concentrations have been found to be linked to insuling secretion.\n",
    "\n",
    "The Chay-Keizer model is a system of coupled ODEs which govern the flow of ions through the cell membrane and can be used to model the electrical activity and ion concentration in pancreatic $\\beta$-cells."
   ]
  },
  {
   "cell_type": "markdown",
   "metadata": {},
   "source": [
    "### Chay-Keizer model\n",
    "\n",
    "This model used modified Morris-Lecar equations to model the rich phenomena found in pancreatic $\\beta$-cells such as spiking and bursting behaviour.\n",
    "\n",
    "$$\n",
    "C_m\\frac{dV}{dt} = -g_{Ca}m_{\\infty}(V-V_{Ca}) - g_Kw(V-V_K) - g_L(V-V_L) - I_{K(Ca)} \\\\\n",
    "\\\\\n",
    "\\frac{dw}{dt} = \\frac{\\phi (w_{\\infty}- w)}{\\tau} \\\\\n",
    "\\\\\n",
    "\\frac{[Ca^{2+}]_i}{dt} = f_i(-\\alpha g_{Ca}m_{\\infty}(V-V_{Ca}) - v_{LPM}[Ca^{2+}]_i)\n",
    "\n",
    "$$\n",
    "\n",
    "The K(Ca) current from the 1st equation is of the form:\n",
    "\n",
    "$$\n",
    "I_{K(Ca)} = g_{K(Ca)}\\frac{[Ca^{2+}]_i}{K_{K(Ca)}+ [Ca^{2+}]_i}(V-V_K)\n",
    "$$"
   ]
  },
  {
   "cell_type": "code",
   "execution_count": 2,
   "metadata": {},
   "outputs": [],
   "source": [
    "from scipy.integrate import solve_ivp\n",
    "from scipy.optimize import fsolve\n",
    "import numpy as np\n",
    "import matplotlib.pyplot as plt\n"
   ]
  },
  {
   "cell_type": "code",
   "execution_count": 3,
   "metadata": {},
   "outputs": [],
   "source": [
    "Cm = 5300 #fF\n",
    "g_Ca = 1000 #pS\n",
    "V_Ca = 25 #mV\n",
    "g_K = 2700 #pS\n",
    "V_K = -75 #mV\n",
    "I_app = 0\n",
    "v1 = -20 #mV\n",
    "v2 = 24\n",
    "v3 = -16 #mV\n",
    "v4 = 11.2 #mV\n",
    "phi = 0.035 #/ms\n",
    "g_L = 150 #pS\n",
    "V_L = -75 #mV\n",
    "g_KCa = 2000 #pS\n",
    "K_KCa = 5 #micro M\n",
    "f = 0.001 \n",
    "alpha = 0.0000045 #micro M /(fA * ms)\n",
    "\n",
    "\n",
    "f_i = 0.004\n",
    "vLPM = 0.18 #/ms\n"
   ]
  },
  {
   "cell_type": "code",
   "execution_count": null,
   "metadata": {},
   "outputs": [],
   "source": []
  },
  {
   "cell_type": "markdown",
   "metadata": {},
   "source": [
    "Missing `I_Ca`, `I_K`, `I_L`\n",
    "\n",
    "`f_i` is the fraction of free $[Ca^{+2}]_i$\n",
    "\n",
    "`alpha` is $\\alpha = 10^3/(2FVi)$"
   ]
  },
  {
   "cell_type": "code",
   "execution_count": 4,
   "metadata": {},
   "outputs": [],
   "source": [
    "#m_inf = 0.5*(1 + np.tanh((V - v1)/v2))\n",
    "#w_inf = 0.5*(1 + np.tanh((V - v3)/v4))\n",
    "#tau = 1/np.cosh((V - v3)/(2*v4))\n",
    "\n",
    "\n",
    "\n",
    "#I_KCa = g_KCa * Cai  * (V - V_K) / (K_KCa + Cai)\n",
    "\n",
    "#dVdt = (-I_Ca - I_K - I_L - I_KCa) / Cm\n",
    "\n",
    "#dCaidt = f_i *(-alpha* I_Ca - vLPM * Cai)\n",
    "\n",
    "#dwdt = phi * (w_inf - w)/ tau"
   ]
  },
  {
   "cell_type": "code",
   "execution_count": 7,
   "metadata": {},
   "outputs": [],
   "source": [
    "def m_inf(V, v1, v2):\n",
    "    return 0.5*(1+ np.tanh((V - v1))/v2)\n",
    "\n",
    "def w_inf(V, v3, v4):\n",
    "    return 0.5*(1 + np.tanh((V - v3)/v4))\n",
    "\n",
    "def tau(V, v3, v4):\n",
    "    return 1/np.cosh((V - v3)/(2*v4))\n",
    "\n",
    "\n",
    "\n",
    "\n",
    "def I_KCa(V, Cai, g_KCa, V_K, K_KCa):\n",
    "    return g_KCa * Cai  * (V - V_K) / (K_KCa + Cai)\n",
    "\n",
    "\n",
    "def I_Ca(V, g_Ca,V_Ca, v1=-20,v2=24):\n",
    "    return g_Ca * (V - V_Ca) * 0.5*(1+ np.tanh((V - v1))/v2)\n",
    "\n",
    "def I_K(V, g_K, V_K, w):\n",
    "    return g_K * ( V - V_K) *w \n",
    "\n",
    "def I_L(V, g_L, V_L):\n",
    "    return g_L *(V - V_L)\n",
    "\n",
    "\n",
    "\n",
    "def chay_Keizer(t, x, ):\n",
    "    V, w, Cai = x\n",
    "\n",
    "    \n",
    "    dxdt = [\n",
    "        (- I_Ca(V, g_Ca,V_Ca) - I_K(V, g_K, V_K,w) - I_L(V, g_L, V_L) - I_KCa(V, Cai, g_KCa, V_K, K_KCa)) / Cm,\n",
    "        phi * (0.5*(1 + np.tanh((V - v3)/v4)) - w)/ tau(V, v3, v4),\n",
    "        f_i *(-alpha* I_Ca(V, g_Ca,V_Ca) - vLPM * Cai)\n",
    "        \n",
    "    ]\n",
    "    return dxdt"
   ]
  },
  {
   "cell_type": "code",
   "execution_count": 8,
   "metadata": {},
   "outputs": [
    {
     "ename": "KeyboardInterrupt",
     "evalue": "",
     "output_type": "error",
     "traceback": [
      "\u001b[1;31m---------------------------------------------------------------------------\u001b[0m",
      "\u001b[1;31mKeyboardInterrupt\u001b[0m                         Traceback (most recent call last)",
      "Cell \u001b[1;32mIn[8], line 8\u001b[0m\n\u001b[0;32m      3\u001b[0m vLPM \u001b[38;5;241m=\u001b[39m \u001b[38;5;241m0.18\u001b[39m \u001b[38;5;66;03m#/ms\u001b[39;00m\n\u001b[0;32m      4\u001b[0m alpha \u001b[38;5;241m=\u001b[39m \u001b[38;5;241m4.5e-06\u001b[39m\n\u001b[1;32m----> 8\u001b[0m sol\u001b[38;5;241m=\u001b[39m\u001b[43msolve_ivp\u001b[49m\u001b[43m(\u001b[49m\u001b[43mchay_Keizer\u001b[49m\u001b[43m,\u001b[49m\u001b[43m \u001b[49m\u001b[43mt_span\u001b[49m\u001b[38;5;241;43m=\u001b[39;49m\u001b[43m[\u001b[49m\u001b[38;5;241;43m0\u001b[39;49m\u001b[43m,\u001b[49m\u001b[43m \u001b[49m\u001b[38;5;241;43m2400\u001b[39;49m\u001b[43m]\u001b[49m\u001b[43m,\u001b[49m\u001b[43m \u001b[49m\u001b[43my0\u001b[49m\u001b[43m \u001b[49m\u001b[38;5;241;43m=\u001b[39;49m\u001b[43m[\u001b[49m\u001b[38;5;241;43m-\u001b[39;49m\u001b[38;5;241;43m55\u001b[39;49m\u001b[43m,\u001b[49m\u001b[43m \u001b[49m\u001b[38;5;241;43m0.2\u001b[39;49m\u001b[43m,\u001b[49m\u001b[43m \u001b[49m\u001b[38;5;241;43m0.05\u001b[39;49m\u001b[43m]\u001b[49m\u001b[43m,\u001b[49m\u001b[43m \u001b[49m\u001b[43mmax_step\u001b[49m\u001b[43m \u001b[49m\u001b[38;5;241;43m=\u001b[39;49m\u001b[43m \u001b[49m\u001b[38;5;241;43m0.01\u001b[39;49m\u001b[43m)\u001b[49m\n\u001b[0;32m     10\u001b[0m \u001b[38;5;28mprint\u001b[39m(sol)\n",
      "File \u001b[1;32mc:\\Users\\adam\\Documents\\_Uni\\_year3\\Computing\\.conda\\Lib\\site-packages\\scipy\\integrate\\_ivp\\ivp.py:655\u001b[0m, in \u001b[0;36msolve_ivp\u001b[1;34m(fun, t_span, y0, method, t_eval, dense_output, events, vectorized, args, **options)\u001b[0m\n\u001b[0;32m    653\u001b[0m status \u001b[38;5;241m=\u001b[39m \u001b[38;5;28;01mNone\u001b[39;00m\n\u001b[0;32m    654\u001b[0m \u001b[38;5;28;01mwhile\u001b[39;00m status \u001b[38;5;129;01mis\u001b[39;00m \u001b[38;5;28;01mNone\u001b[39;00m:\n\u001b[1;32m--> 655\u001b[0m     message \u001b[38;5;241m=\u001b[39m \u001b[43msolver\u001b[49m\u001b[38;5;241;43m.\u001b[39;49m\u001b[43mstep\u001b[49m\u001b[43m(\u001b[49m\u001b[43m)\u001b[49m\n\u001b[0;32m    657\u001b[0m     \u001b[38;5;28;01mif\u001b[39;00m solver\u001b[38;5;241m.\u001b[39mstatus \u001b[38;5;241m==\u001b[39m \u001b[38;5;124m'\u001b[39m\u001b[38;5;124mfinished\u001b[39m\u001b[38;5;124m'\u001b[39m:\n\u001b[0;32m    658\u001b[0m         status \u001b[38;5;241m=\u001b[39m \u001b[38;5;241m0\u001b[39m\n",
      "File \u001b[1;32mc:\\Users\\adam\\Documents\\_Uni\\_year3\\Computing\\.conda\\Lib\\site-packages\\scipy\\integrate\\_ivp\\base.py:197\u001b[0m, in \u001b[0;36mOdeSolver.step\u001b[1;34m(self)\u001b[0m\n\u001b[0;32m    195\u001b[0m \u001b[38;5;28;01melse\u001b[39;00m:\n\u001b[0;32m    196\u001b[0m     t \u001b[38;5;241m=\u001b[39m \u001b[38;5;28mself\u001b[39m\u001b[38;5;241m.\u001b[39mt\n\u001b[1;32m--> 197\u001b[0m     success, message \u001b[38;5;241m=\u001b[39m \u001b[38;5;28;43mself\u001b[39;49m\u001b[38;5;241;43m.\u001b[39;49m\u001b[43m_step_impl\u001b[49m\u001b[43m(\u001b[49m\u001b[43m)\u001b[49m\n\u001b[0;32m    199\u001b[0m     \u001b[38;5;28;01mif\u001b[39;00m \u001b[38;5;129;01mnot\u001b[39;00m success:\n\u001b[0;32m    200\u001b[0m         \u001b[38;5;28mself\u001b[39m\u001b[38;5;241m.\u001b[39mstatus \u001b[38;5;241m=\u001b[39m \u001b[38;5;124m'\u001b[39m\u001b[38;5;124mfailed\u001b[39m\u001b[38;5;124m'\u001b[39m\n",
      "File \u001b[1;32mc:\\Users\\adam\\Documents\\_Uni\\_year3\\Computing\\.conda\\Lib\\site-packages\\scipy\\integrate\\_ivp\\rk.py:147\u001b[0m, in \u001b[0;36mRungeKutta._step_impl\u001b[1;34m(self)\u001b[0m\n\u001b[0;32m    144\u001b[0m y_new, f_new \u001b[38;5;241m=\u001b[39m rk_step(\u001b[38;5;28mself\u001b[39m\u001b[38;5;241m.\u001b[39mfun, t, y, \u001b[38;5;28mself\u001b[39m\u001b[38;5;241m.\u001b[39mf, h, \u001b[38;5;28mself\u001b[39m\u001b[38;5;241m.\u001b[39mA,\n\u001b[0;32m    145\u001b[0m                        \u001b[38;5;28mself\u001b[39m\u001b[38;5;241m.\u001b[39mB, \u001b[38;5;28mself\u001b[39m\u001b[38;5;241m.\u001b[39mC, \u001b[38;5;28mself\u001b[39m\u001b[38;5;241m.\u001b[39mK)\n\u001b[0;32m    146\u001b[0m scale \u001b[38;5;241m=\u001b[39m atol \u001b[38;5;241m+\u001b[39m np\u001b[38;5;241m.\u001b[39mmaximum(np\u001b[38;5;241m.\u001b[39mabs(y), np\u001b[38;5;241m.\u001b[39mabs(y_new)) \u001b[38;5;241m*\u001b[39m rtol\n\u001b[1;32m--> 147\u001b[0m error_norm \u001b[38;5;241m=\u001b[39m \u001b[38;5;28;43mself\u001b[39;49m\u001b[38;5;241;43m.\u001b[39;49m\u001b[43m_estimate_error_norm\u001b[49m\u001b[43m(\u001b[49m\u001b[38;5;28;43mself\u001b[39;49m\u001b[38;5;241;43m.\u001b[39;49m\u001b[43mK\u001b[49m\u001b[43m,\u001b[49m\u001b[43m \u001b[49m\u001b[43mh\u001b[49m\u001b[43m,\u001b[49m\u001b[43m \u001b[49m\u001b[43mscale\u001b[49m\u001b[43m)\u001b[49m\n\u001b[0;32m    149\u001b[0m \u001b[38;5;28;01mif\u001b[39;00m error_norm \u001b[38;5;241m<\u001b[39m \u001b[38;5;241m1\u001b[39m:\n\u001b[0;32m    150\u001b[0m     \u001b[38;5;28;01mif\u001b[39;00m error_norm \u001b[38;5;241m==\u001b[39m \u001b[38;5;241m0\u001b[39m:\n",
      "File \u001b[1;32mc:\\Users\\adam\\Documents\\_Uni\\_year3\\Computing\\.conda\\Lib\\site-packages\\scipy\\integrate\\_ivp\\rk.py:109\u001b[0m, in \u001b[0;36mRungeKutta._estimate_error_norm\u001b[1;34m(self, K, h, scale)\u001b[0m\n\u001b[0;32m    108\u001b[0m \u001b[38;5;28;01mdef\u001b[39;00m \u001b[38;5;21m_estimate_error_norm\u001b[39m(\u001b[38;5;28mself\u001b[39m, K, h, scale):\n\u001b[1;32m--> 109\u001b[0m     \u001b[38;5;28;01mreturn\u001b[39;00m norm(\u001b[38;5;28;43mself\u001b[39;49m\u001b[38;5;241;43m.\u001b[39;49m\u001b[43m_estimate_error\u001b[49m\u001b[43m(\u001b[49m\u001b[43mK\u001b[49m\u001b[43m,\u001b[49m\u001b[43m \u001b[49m\u001b[43mh\u001b[49m\u001b[43m)\u001b[49m \u001b[38;5;241m/\u001b[39m scale)\n",
      "File \u001b[1;32mc:\\Users\\adam\\Documents\\_Uni\\_year3\\Computing\\.conda\\Lib\\site-packages\\scipy\\integrate\\_ivp\\rk.py:106\u001b[0m, in \u001b[0;36mRungeKutta._estimate_error\u001b[1;34m(self, K, h)\u001b[0m\n\u001b[0;32m    105\u001b[0m \u001b[38;5;28;01mdef\u001b[39;00m \u001b[38;5;21m_estimate_error\u001b[39m(\u001b[38;5;28mself\u001b[39m, K, h):\n\u001b[1;32m--> 106\u001b[0m     \u001b[38;5;28;01mreturn\u001b[39;00m \u001b[43mnp\u001b[49m\u001b[38;5;241;43m.\u001b[39;49m\u001b[43mdot\u001b[49m\u001b[43m(\u001b[49m\u001b[43mK\u001b[49m\u001b[38;5;241;43m.\u001b[39;49m\u001b[43mT\u001b[49m\u001b[43m,\u001b[49m\u001b[43m \u001b[49m\u001b[38;5;28;43mself\u001b[39;49m\u001b[38;5;241;43m.\u001b[39;49m\u001b[43mE\u001b[49m\u001b[43m)\u001b[49m \u001b[38;5;241m*\u001b[39m h\n",
      "\u001b[1;31mKeyboardInterrupt\u001b[0m: "
     ]
    }
   ],
   "source": [
    "\n",
    "f_i = 0.004\n",
    "\n",
    "vLPM = 0.18 #/ms\n",
    "alpha = 4.5e-06\n",
    "\n",
    "\n",
    "\n",
    "sol=solve_ivp(chay_Keizer, t_span=[0, 2400], y0 =[-55, 0.2, 0.05], max_step = 0.01)\n",
    "\n",
    "print(sol)\n",
    "\n",
    "\n"
   ]
  },
  {
   "cell_type": "code",
   "execution_count": null,
   "metadata": {},
   "outputs": [
    {
     "ename": "NameError",
     "evalue": "name 'plt' is not defined",
     "output_type": "error",
     "traceback": [
      "\u001b[1;31m---------------------------------------------------------------------------\u001b[0m",
      "\u001b[1;31mNameError\u001b[0m                                 Traceback (most recent call last)",
      "Cell \u001b[1;32mIn[1], line 1\u001b[0m\n\u001b[1;32m----> 1\u001b[0m fig, (ax1, ax2, ax3) \u001b[38;5;241m=\u001b[39m \u001b[43mplt\u001b[49m\u001b[38;5;241m.\u001b[39msubplots(\u001b[38;5;241m1\u001b[39m, \u001b[38;5;241m3\u001b[39m, figsize\u001b[38;5;241m=\u001b[39m(\u001b[38;5;241m18\u001b[39m, \u001b[38;5;241m6\u001b[39m))\n\u001b[0;32m      6\u001b[0m ax1\u001b[38;5;241m.\u001b[39mplot(sol\u001b[38;5;241m.\u001b[39mt, sol\u001b[38;5;241m.\u001b[39my[\u001b[38;5;241m0\u001b[39m, :], label\u001b[38;5;241m=\u001b[39m\u001b[38;5;124m\"\u001b[39m\u001b[38;5;124mV (mV)\u001b[39m\u001b[38;5;124m\"\u001b[39m)\n\u001b[0;32m      7\u001b[0m ax1\u001b[38;5;241m.\u001b[39mset_xlabel(\u001b[38;5;124m\"\u001b[39m\u001b[38;5;124mt (ms)\u001b[39m\u001b[38;5;124m\"\u001b[39m)\n",
      "\u001b[1;31mNameError\u001b[0m: name 'plt' is not defined"
     ]
    }
   ],
   "source": [
    "fig, (ax1, ax2, ax3) = plt.subplots(1, 3, figsize=(18, 6))\n",
    "\n",
    "\n",
    "\n",
    "\n",
    "ax1.plot(sol.t, sol.y[0, :], label=\"V (mV)\")\n",
    "ax1.set_xlabel(\"t (ms)\")\n",
    "ax1.set_ylabel(\"V (mV)\")\n",
    "ax1.legend()\n",
    "\n",
    "ax2.plot(sol.t, sol.y[1, :], label=\"w\")\n",
    "ax2.set_xlabel(\"t (ms)\")\n",
    "ax2.set_ylabel(\"w\")\n",
    "ax2.legend()\n",
    "\n",
    "ax3.plot(sol.t, sol.y[2, :], label=\"Cai\")\n",
    "ax3.set_xlabel(\"t (ms)\")\n",
    "ax3.set_ylabel(\"Cai\")\n",
    "ax3.legend()\n",
    "\n",
    "plt.tight_layout()\n",
    "plt.show()"
   ]
  },
  {
   "cell_type": "code",
   "execution_count": null,
   "metadata": {},
   "outputs": [],
   "source": []
  }
 ],
 "metadata": {
  "kernelspec": {
   "display_name": "Python 3",
   "language": "python",
   "name": "python3"
  },
  "language_info": {
   "codemirror_mode": {
    "name": "ipython",
    "version": 3
   },
   "file_extension": ".py",
   "mimetype": "text/x-python",
   "name": "python",
   "nbconvert_exporter": "python",
   "pygments_lexer": "ipython3",
   "version": "3.12.8"
  }
 },
 "nbformat": 4,
 "nbformat_minor": 2
}
